{
 "cells": [
  {
   "cell_type": "markdown",
   "metadata": {
    "id": "3DR-eO17geWu"
   },
   "source": [
    "# Convolutional Neural Network"
   ]
  },
  {
   "cell_type": "markdown",
   "metadata": {
    "id": "EMefrVPCg-60"
   },
   "source": [
    "### Importing the libraries"
   ]
  },
  {
   "cell_type": "code",
   "execution_count": 1,
   "metadata": {
    "id": "invDSUNCDw2Y"
   },
   "outputs": [],
   "source": [
    "import tensorflow as tf\n",
    "from keras.preprocessing.image import ImageDataGenerator"
   ]
  },
  {
   "cell_type": "code",
   "execution_count": 2,
   "metadata": {
    "colab": {
     "base_uri": "https://localhost:8080/",
     "height": 35
    },
    "id": "AlK_KJBxGXfP",
    "outputId": "d23a7986-846d-48a8-f5ed-bb179dde3cc3"
   },
   "outputs": [
    {
     "data": {
      "text/plain": [
       "'2.15.0'"
      ]
     },
     "execution_count": 2,
     "metadata": {},
     "output_type": "execute_result"
    }
   ],
   "source": [
    "tf.__version__"
   ]
  },
  {
   "cell_type": "markdown",
   "metadata": {
    "id": "oxQxCBWyoGPE"
   },
   "source": [
    "## Part 1 - Data Preprocessing"
   ]
  },
  {
   "cell_type": "markdown",
   "metadata": {
    "id": "MvE-heJNo3GG"
   },
   "source": [
    "### Preprocessing the Training set"
   ]
  },
  {
   "cell_type": "code",
   "execution_count": 4,
   "metadata": {
    "id": "GJ1LKBr9GgKh"
   },
   "outputs": [
    {
     "name": "stdout",
     "output_type": "stream",
     "text": [
      "Found 8000 images belonging to 2 classes.\n"
     ]
    }
   ],
   "source": [
    "train_datagen = ImageDataGenerator(\n",
    "    rescale=1./255,\n",
    "    shear_range=0.2,\n",
    "    zoom_range=0.2,\n",
    "    horizontal_flip=True\n",
    ")\n",
    "training_set = train_datagen.flow_from_directory(\n",
    "    'dataset/training_set',\n",
    "    target_size=(64, 64),\n",
    "    batch_size=32,\n",
    "    class_mode='binary'\n",
    ")"
   ]
  },
  {
   "cell_type": "markdown",
   "metadata": {
    "id": "mrCMmGw9pHys"
   },
   "source": [
    "### Preprocessing the Test set"
   ]
  },
  {
   "cell_type": "code",
   "execution_count": 5,
   "metadata": {
    "id": "mqT-nTcuIf8Q"
   },
   "outputs": [
    {
     "name": "stdout",
     "output_type": "stream",
     "text": [
      "Found 1998 images belonging to 2 classes.\n"
     ]
    }
   ],
   "source": [
    "test_datagen = ImageDataGenerator(rescale=1./255)\n",
    "testing_set = test_datagen.flow_from_directory(\n",
    "    'dataset/test_set',\n",
    "    target_size=(64,64),\n",
    "    batch_size=32,\n",
    "    class_mode='binary'\n",
    ")"
   ]
  },
  {
   "cell_type": "markdown",
   "metadata": {
    "id": "af8O4l90gk7B"
   },
   "source": [
    "## Part 2 - Building the CNN"
   ]
  },
  {
   "cell_type": "markdown",
   "metadata": {
    "id": "ces1gXY2lmoX"
   },
   "source": [
    "### Initialising the CNN"
   ]
  },
  {
   "cell_type": "code",
   "execution_count": 6,
   "metadata": {
    "id": "mH7aL3bTJiMi"
   },
   "outputs": [],
   "source": [
    "cnn = tf.keras.models.Sequential()"
   ]
  },
  {
   "cell_type": "markdown",
   "metadata": {
    "id": "u5YJj_XMl5LF"
   },
   "source": [
    "### Step 1 - Convolution"
   ]
  },
  {
   "cell_type": "code",
   "execution_count": 7,
   "metadata": {
    "id": "Q7n-kRgyJspa"
   },
   "outputs": [],
   "source": [
    "cnn.add(tf.keras.layers.Conv2D(filters=32, kernel_size=3, activation='relu', input_shape=[64, 64, 3]))"
   ]
  },
  {
   "cell_type": "markdown",
   "metadata": {
    "id": "tf87FpvxmNOJ"
   },
   "source": [
    "### Step 2 - Pooling"
   ]
  },
  {
   "cell_type": "code",
   "execution_count": 8,
   "metadata": {
    "id": "CmOfHqD-Kkyb"
   },
   "outputs": [],
   "source": [
    "cnn.add(tf.keras.layers.MaxPool2D(pool_size=(2,2), strides=2))"
   ]
  },
  {
   "cell_type": "markdown",
   "metadata": {
    "id": "xaTOgD8rm4mU"
   },
   "source": [
    "### Adding a second convolutional layer"
   ]
  },
  {
   "cell_type": "code",
   "execution_count": 9,
   "metadata": {
    "id": "Yg5QvkyFLTZP"
   },
   "outputs": [],
   "source": [
    "cnn.add(tf.keras.layers.Conv2D(filters=32, kernel_size=3, activation='relu'))\n",
    "cnn.add(tf.keras.layers.MaxPool2D(pool_size=(2,2), strides=2))"
   ]
  },
  {
   "cell_type": "markdown",
   "metadata": {
    "id": "tmiEuvTunKfk"
   },
   "source": [
    "### Step 3 - Flattening"
   ]
  },
  {
   "cell_type": "code",
   "execution_count": 10,
   "metadata": {
    "id": "BHVo-wQILcw2"
   },
   "outputs": [],
   "source": [
    "cnn.add(tf.keras.layers.Flatten())"
   ]
  },
  {
   "cell_type": "markdown",
   "metadata": {
    "id": "dAoSECOm203v"
   },
   "source": [
    "### Step 4 - Full Connection"
   ]
  },
  {
   "cell_type": "code",
   "execution_count": 11,
   "metadata": {
    "id": "3S9mFZYKLu3q"
   },
   "outputs": [],
   "source": [
    "cnn.add(tf.keras.layers.Dense(units=128, activation='relu'))"
   ]
  },
  {
   "cell_type": "markdown",
   "metadata": {
    "id": "yTldFvbX28Na"
   },
   "source": [
    "### Step 5 - Output Layer"
   ]
  },
  {
   "cell_type": "code",
   "execution_count": 12,
   "metadata": {
    "id": "YXREYcB_L_93"
   },
   "outputs": [],
   "source": [
    "cnn.add(tf.keras.layers.Dense(units=1, activation='sigmoid'))"
   ]
  },
  {
   "cell_type": "markdown",
   "metadata": {
    "id": "D6XkI90snSDl"
   },
   "source": [
    "## Part 3 - Training the CNN"
   ]
  },
  {
   "cell_type": "markdown",
   "metadata": {
    "id": "vfrFQACEnc6i"
   },
   "source": [
    "### Compiling the CNN"
   ]
  },
  {
   "cell_type": "code",
   "execution_count": 13,
   "metadata": {
    "id": "_0C0SsLGMbzr"
   },
   "outputs": [],
   "source": [
    "cnn.compile(optimizer='adam', loss='binary_crossentropy', metrics = ['accuracy'])"
   ]
  },
  {
   "cell_type": "markdown",
   "metadata": {
    "id": "ehS-v3MIpX2h"
   },
   "source": [
    "### Training the CNN on the Training set and evaluating it on the Test set"
   ]
  },
  {
   "cell_type": "code",
   "execution_count": 14,
   "metadata": {
    "id": "tgIN7fAWMwAM"
   },
   "outputs": [
    {
     "name": "stdout",
     "output_type": "stream",
     "text": [
      "Epoch 1/25\n",
      "250/250 [==============================] - 19s 74ms/step - loss: 0.6609 - accuracy: 0.5960 - val_loss: 0.6393 - val_accuracy: 0.6371\n",
      "Epoch 2/25\n",
      "250/250 [==============================] - 18s 74ms/step - loss: 0.5827 - accuracy: 0.6860 - val_loss: 0.5389 - val_accuracy: 0.7337\n",
      "Epoch 3/25\n",
      "250/250 [==============================] - 19s 75ms/step - loss: 0.5426 - accuracy: 0.7206 - val_loss: 0.5127 - val_accuracy: 0.7548\n",
      "Epoch 4/25\n",
      "250/250 [==============================] - 19s 75ms/step - loss: 0.5113 - accuracy: 0.7474 - val_loss: 0.5097 - val_accuracy: 0.7543\n",
      "Epoch 5/25\n",
      "250/250 [==============================] - 18s 73ms/step - loss: 0.5017 - accuracy: 0.7523 - val_loss: 0.4789 - val_accuracy: 0.7728\n",
      "Epoch 6/25\n",
      "250/250 [==============================] - 18s 72ms/step - loss: 0.4792 - accuracy: 0.7684 - val_loss: 0.4799 - val_accuracy: 0.7683\n",
      "Epoch 7/25\n",
      "250/250 [==============================] - 18s 72ms/step - loss: 0.4645 - accuracy: 0.7785 - val_loss: 0.4500 - val_accuracy: 0.7868\n",
      "Epoch 8/25\n",
      "250/250 [==============================] - 18s 73ms/step - loss: 0.4420 - accuracy: 0.7897 - val_loss: 0.4579 - val_accuracy: 0.7833\n",
      "Epoch 9/25\n",
      "250/250 [==============================] - 18s 74ms/step - loss: 0.4409 - accuracy: 0.7933 - val_loss: 0.4877 - val_accuracy: 0.7693\n",
      "Epoch 10/25\n",
      "250/250 [==============================] - 19s 74ms/step - loss: 0.4219 - accuracy: 0.8026 - val_loss: 0.4652 - val_accuracy: 0.7838\n",
      "Epoch 11/25\n",
      "250/250 [==============================] - 19s 75ms/step - loss: 0.4118 - accuracy: 0.8067 - val_loss: 0.4507 - val_accuracy: 0.7808\n",
      "Epoch 12/25\n",
      "250/250 [==============================] - 18s 74ms/step - loss: 0.4013 - accuracy: 0.8167 - val_loss: 0.4531 - val_accuracy: 0.7928\n",
      "Epoch 13/25\n",
      "250/250 [==============================] - 18s 73ms/step - loss: 0.3835 - accuracy: 0.8265 - val_loss: 0.4505 - val_accuracy: 0.7903\n",
      "Epoch 14/25\n",
      "250/250 [==============================] - 18s 74ms/step - loss: 0.3739 - accuracy: 0.8284 - val_loss: 0.4451 - val_accuracy: 0.7983\n",
      "Epoch 15/25\n",
      "250/250 [==============================] - 18s 74ms/step - loss: 0.3616 - accuracy: 0.8374 - val_loss: 0.4289 - val_accuracy: 0.8048\n",
      "Epoch 16/25\n",
      "250/250 [==============================] - 18s 72ms/step - loss: 0.3485 - accuracy: 0.8470 - val_loss: 0.4551 - val_accuracy: 0.7993\n",
      "Epoch 17/25\n",
      "250/250 [==============================] - 18s 72ms/step - loss: 0.3475 - accuracy: 0.8444 - val_loss: 0.4580 - val_accuracy: 0.8028\n",
      "Epoch 18/25\n",
      "250/250 [==============================] - 18s 73ms/step - loss: 0.3414 - accuracy: 0.8468 - val_loss: 0.4282 - val_accuracy: 0.8168\n",
      "Epoch 19/25\n",
      "250/250 [==============================] - 18s 73ms/step - loss: 0.3249 - accuracy: 0.8616 - val_loss: 0.4572 - val_accuracy: 0.7928\n",
      "Epoch 20/25\n",
      "250/250 [==============================] - 18s 73ms/step - loss: 0.3199 - accuracy: 0.8612 - val_loss: 0.4763 - val_accuracy: 0.7968\n",
      "Epoch 21/25\n",
      "250/250 [==============================] - 18s 73ms/step - loss: 0.3073 - accuracy: 0.8644 - val_loss: 0.4486 - val_accuracy: 0.8023\n",
      "Epoch 22/25\n",
      "250/250 [==============================] - 18s 73ms/step - loss: 0.2888 - accuracy: 0.8761 - val_loss: 0.4518 - val_accuracy: 0.8163\n",
      "Epoch 23/25\n",
      "250/250 [==============================] - 18s 71ms/step - loss: 0.2800 - accuracy: 0.8786 - val_loss: 0.5109 - val_accuracy: 0.8068\n",
      "Epoch 24/25\n",
      "250/250 [==============================] - 17s 70ms/step - loss: 0.2665 - accuracy: 0.8840 - val_loss: 0.5033 - val_accuracy: 0.8013\n",
      "Epoch 25/25\n",
      "250/250 [==============================] - 18s 71ms/step - loss: 0.2550 - accuracy: 0.8915 - val_loss: 0.5176 - val_accuracy: 0.8118\n"
     ]
    },
    {
     "data": {
      "text/plain": [
       "<keras.src.callbacks.History at 0x15fc4c6d0>"
      ]
     },
     "execution_count": 14,
     "metadata": {},
     "output_type": "execute_result"
    }
   ],
   "source": [
    "cnn.fit(x=training_set, validation_data=testing_set, epochs = 25)"
   ]
  },
  {
   "cell_type": "markdown",
   "metadata": {
    "id": "U3PZasO0006Z"
   },
   "source": [
    "## Part 4 - Making a single prediction"
   ]
  },
  {
   "cell_type": "code",
   "execution_count": 21,
   "metadata": {
    "id": "zU__GCTYNh6E"
   },
   "outputs": [
    {
     "name": "stdout",
     "output_type": "stream",
     "text": [
      "1/1 [==============================] - 0s 14ms/step\n"
     ]
    }
   ],
   "source": [
    "import numpy as np\n",
    "from keras.preprocessing import image\n",
    "test_image = image.load_img('dataset/single_prediction/dog.4001.jpg', target_size=(64, 64))\n",
    "test_image = image.img_to_array(test_image)\n",
    "test_image = np.expand_dims(test_image, axis=0)\n",
    "result = cnn.predict(test_image)\n",
    "training_set.class_indices\n",
    "if result[0][0] == 1:\n",
    "  prediction = 'dog'\n",
    "else:\n",
    "  prediction = 'cat'"
   ]
  },
  {
   "cell_type": "code",
   "execution_count": 22,
   "metadata": {
    "id": "BlZu_NfAQNuW"
   },
   "outputs": [
    {
     "name": "stdout",
     "output_type": "stream",
     "text": [
      "dog\n"
     ]
    }
   ],
   "source": [
    "print(prediction)"
   ]
  },
  {
   "cell_type": "code",
   "execution_count": null,
   "metadata": {},
   "outputs": [],
   "source": []
  }
 ],
 "metadata": {
  "colab": {
   "provenance": [],
   "toc_visible": true
  },
  "kernelspec": {
   "display_name": "Python 3 (ipykernel)",
   "language": "python",
   "name": "python3"
  },
  "language_info": {
   "codemirror_mode": {
    "name": "ipython",
    "version": 3
   },
   "file_extension": ".py",
   "mimetype": "text/x-python",
   "name": "python",
   "nbconvert_exporter": "python",
   "pygments_lexer": "ipython3",
   "version": "3.11.5"
  }
 },
 "nbformat": 4,
 "nbformat_minor": 1
}
